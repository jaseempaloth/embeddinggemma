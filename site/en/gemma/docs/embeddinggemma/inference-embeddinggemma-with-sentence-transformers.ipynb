{
  "cells": [
    {
      "cell_type": "markdown",
      "metadata": {
        "id": "view-in-github",
        "colab_type": "text"
      },
      "source": [
        "<a href=\"https://colab.research.google.com/github/jaseempaloth/embeddinggemma/blob/main/site/en/gemma/docs/embeddinggemma/inference-embeddinggemma-with-sentence-transformers.ipynb\" target=\"_parent\"><img src=\"https://colab.research.google.com/assets/colab-badge.svg\" alt=\"Open In Colab\"/></a>"
      ]
    },
    {
      "cell_type": "markdown",
      "metadata": {
        "id": "-u7xRR3DeFXz"
      },
      "source": [
        "##### Copyright 2025 Google LLC."
      ]
    },
    {
      "cell_type": "code",
      "execution_count": null,
      "metadata": {
        "cellView": "form",
        "id": "oed1Dh9SeIlD"
      },
      "outputs": [],
      "source": [
        "#@title Licensed under the Apache License, Version 2.0 (the \"License\");\n",
        "# you may not use this file except in compliance with the License.\n",
        "# You may obtain a copy of the License at\n",
        "#\n",
        "# https://www.apache.org/licenses/LICENSE-2.0\n",
        "#\n",
        "# Unless required by applicable law or agreed to in writing, software\n",
        "# distributed under the License is distributed on an \"AS IS\" BASIS,\n",
        "# WITHOUT WARRANTIES OR CONDITIONS OF ANY KIND, either express or implied.\n",
        "# See the License for the specific language governing permissions and\n",
        "# limitations under the License."
      ]
    },
    {
      "cell_type": "markdown",
      "metadata": {
        "id": "UpJl85mfqdUB"
      },
      "source": [
        "<table class=\"tfo-notebook-buttons\" align=\"left\">\n",
        "  <td>\n",
        "    <a target=\"_blank\" href=\"https://ai.google.dev/gemma/docs/embeddinggemma/inference-embeddinggemma-with-sentence-transformers\"><img src=\"https://ai.google.dev/static/site-assets/images/docs/notebook-site-button.png\" height=\"32\" width=\"32\" />View on ai.google.dev</a>\n",
        "  </td>\n",
        "  <td>\n",
        "    <a target=\"_blank\" href=\"https://colab.research.google.com/github/google/generative-ai-docs/blob/main/site/en/gemma/docs/embeddinggemma/inference-embeddinggemma-with-sentence-transformers.ipynb\"\"><img src=\"https://www.tensorflow.org/images/colab_logo_32px.png\" />Run in Google Colab</a>\n",
        "  </td>\n",
        "  <td>\n",
        "    <a target=\"_blank\" href=\"https://kaggle.com/kernels/welcome?src=https://github.com/google/generative-ai-docs/blob/main/site/en/gemma/docs/embeddinggemma/inference-embeddinggemma-with-sentence-transformers.ipynb\"><img src=\"https://www.kaggle.com/static/images/logos/kaggle-logo-transparent-300.png\" height=\"32\" width=\"70\"/>Run in Kaggle</a>\n",
        "  </td>\n",
        "  <td>\n",
        "    <a target=\"_blank\" href=\"https://console.cloud.google.com/vertex-ai/workbench/deploy-notebook?download_url=https://raw.githubusercontent.com/google/generative-ai-docs/main/site/en/gemma/docs/embeddinggemma/inference-embeddinggemma-with-sentence-transformers.ipynb\"><img src=\"https://ai.google.dev/images/cloud-icon.svg\" width=\"40\" />Open in Vertex AI</a>\n",
        "  </td>\n",
        "  <td>\n",
        "    <a target=\"_blank\" href=\"https://github.com/google/generative-ai-docs/blob/main/site/en/gemma/docs/embeddinggemma/inference-embeddinggemma-with-sentence-transformers.ipynb\"><img src=\"https://www.tensorflow.org/images/GitHub-Mark-32px.png\" />View source on GitHub</a>\n",
        "  </td>\n",
        "</table>"
      ]
    },
    {
      "cell_type": "markdown",
      "metadata": {
        "id": "Sq3lJyEiqqD-"
      },
      "source": [
        "# Generate Embeddings with Sentence Transformers\n",
        "\n",
        "EmbeddingGemma is a lightweight, open embedding model designed for fast, high-quality retrieval on everyday devices like mobile phones. At only 308 million parameters, it's efficient enough to run advanced AI techniques, such as Retrieval Augmented Generation (RAG), directly on your local machine with no internet connection required.\n",
        "\n",
        "## Setup\n",
        "\n",
        "Before starting this tutorial, complete the following steps:\n",
        "\n",
        "* Get access to Gemma by logging into [Hugging Face](https://huggingface.co/google/embeddinggemma-300M) and selecting **Acknowledge license** for a Gemma model.\n",
        "* Generate a Hugging Face [Access Token](https://huggingface.co/docs/hub/en/security-tokens#how-to-manage-user-access-token) and use it to login from Colab.\n",
        "\n",
        "This notebook will run on either CPU or GPU."
      ]
    },
    {
      "cell_type": "markdown",
      "metadata": {
        "id": "R3TOEqprq-X3"
      },
      "source": [
        "### Install Python packages\n",
        "\n",
        "Install the libraries required for running the EmbeddingGemma model and generating embeddings. Sentence Transformers is a Python framework for text and image embeddings. For more information, see the [Sentence Transformers](https://www.sbert.net/) documentation."
      ]
    },
    {
      "cell_type": "code",
      "execution_count": 1,
      "metadata": {
        "id": "jZFuhT3nrHEK",
        "outputId": "1b278b1b-0dff-4832-f01c-4a633780efbb",
        "colab": {
          "base_uri": "https://localhost:8080/"
        }
      },
      "outputs": [
        {
          "output_type": "stream",
          "name": "stdout",
          "text": [
            "Collecting git+https://github.com/huggingface/transformers@v4.56.0-Embedding-Gemma-preview\n",
            "  Cloning https://github.com/huggingface/transformers (to revision v4.56.0-Embedding-Gemma-preview) to /tmp/pip-req-build-cn_u7sd_\n",
            "  Running command git clone --filter=blob:none --quiet https://github.com/huggingface/transformers /tmp/pip-req-build-cn_u7sd_\n",
            "  Running command git checkout -q df86ccad5d183a07127e7dc001bf53020d885fbc\n",
            "  Resolved https://github.com/huggingface/transformers to commit df86ccad5d183a07127e7dc001bf53020d885fbc\n",
            "  Installing build dependencies ... \u001b[?25l\u001b[?25hdone\n",
            "  Getting requirements to build wheel ... \u001b[?25l\u001b[?25hdone\n",
            "  Preparing metadata (pyproject.toml) ... \u001b[?25l\u001b[?25hdone\n",
            "Collecting sentence-transformers\n",
            "  Downloading sentence_transformers-5.1.0-py3-none-any.whl.metadata (16 kB)\n",
            "Requirement already satisfied: tqdm in /usr/local/lib/python3.12/dist-packages (from sentence-transformers) (4.67.1)\n",
            "Requirement already satisfied: torch>=1.11.0 in /usr/local/lib/python3.12/dist-packages (from sentence-transformers) (2.8.0+cpu)\n",
            "Requirement already satisfied: scikit-learn in /usr/local/lib/python3.12/dist-packages (from sentence-transformers) (1.6.1)\n",
            "Requirement already satisfied: scipy in /usr/local/lib/python3.12/dist-packages (from sentence-transformers) (1.16.1)\n",
            "Requirement already satisfied: huggingface-hub>=0.20.0 in /usr/local/lib/python3.12/dist-packages (from sentence-transformers) (0.34.4)\n",
            "Requirement already satisfied: Pillow in /usr/local/lib/python3.12/dist-packages (from sentence-transformers) (11.3.0)\n",
            "Requirement already satisfied: typing_extensions>=4.5.0 in /usr/local/lib/python3.12/dist-packages (from sentence-transformers) (4.15.0)\n",
            "Requirement already satisfied: filelock in /usr/local/lib/python3.12/dist-packages (from transformers==4.57.0.dev0) (3.19.1)\n",
            "Requirement already satisfied: numpy>=1.17 in /usr/local/lib/python3.12/dist-packages (from transformers==4.57.0.dev0) (2.0.2)\n",
            "Requirement already satisfied: packaging>=20.0 in /usr/local/lib/python3.12/dist-packages (from transformers==4.57.0.dev0) (25.0)\n",
            "Requirement already satisfied: pyyaml>=5.1 in /usr/local/lib/python3.12/dist-packages (from transformers==4.57.0.dev0) (6.0.2)\n",
            "Requirement already satisfied: regex!=2019.12.17 in /usr/local/lib/python3.12/dist-packages (from transformers==4.57.0.dev0) (2025.9.1)\n",
            "Requirement already satisfied: requests in /usr/local/lib/python3.12/dist-packages (from transformers==4.57.0.dev0) (2.32.4)\n",
            "Requirement already satisfied: tokenizers<=0.23.0,>=0.22.0 in /usr/local/lib/python3.12/dist-packages (from transformers==4.57.0.dev0) (0.22.0)\n",
            "Requirement already satisfied: safetensors>=0.4.3 in /usr/local/lib/python3.12/dist-packages (from transformers==4.57.0.dev0) (0.6.2)\n",
            "Requirement already satisfied: fsspec>=2023.5.0 in /usr/local/lib/python3.12/dist-packages (from huggingface-hub>=0.20.0->sentence-transformers) (2025.9.0)\n",
            "Requirement already satisfied: hf-xet<2.0.0,>=1.1.3 in /usr/local/lib/python3.12/dist-packages (from huggingface-hub>=0.20.0->sentence-transformers) (1.1.9)\n",
            "Requirement already satisfied: setuptools in /usr/local/lib/python3.12/dist-packages (from torch>=1.11.0->sentence-transformers) (75.2.0)\n",
            "Requirement already satisfied: sympy>=1.13.3 in /usr/local/lib/python3.12/dist-packages (from torch>=1.11.0->sentence-transformers) (1.14.0)\n",
            "Requirement already satisfied: networkx in /usr/local/lib/python3.12/dist-packages (from torch>=1.11.0->sentence-transformers) (3.5)\n",
            "Requirement already satisfied: jinja2 in /usr/local/lib/python3.12/dist-packages (from torch>=1.11.0->sentence-transformers) (3.1.6)\n",
            "Requirement already satisfied: charset_normalizer<4,>=2 in /usr/local/lib/python3.12/dist-packages (from requests->transformers==4.57.0.dev0) (3.4.3)\n",
            "Requirement already satisfied: idna<4,>=2.5 in /usr/local/lib/python3.12/dist-packages (from requests->transformers==4.57.0.dev0) (3.10)\n",
            "Requirement already satisfied: urllib3<3,>=1.21.1 in /usr/local/lib/python3.12/dist-packages (from requests->transformers==4.57.0.dev0) (2.5.0)\n",
            "Requirement already satisfied: certifi>=2017.4.17 in /usr/local/lib/python3.12/dist-packages (from requests->transformers==4.57.0.dev0) (2025.8.3)\n",
            "Requirement already satisfied: joblib>=1.2.0 in /usr/local/lib/python3.12/dist-packages (from scikit-learn->sentence-transformers) (1.5.2)\n",
            "Requirement already satisfied: threadpoolctl>=3.1.0 in /usr/local/lib/python3.12/dist-packages (from scikit-learn->sentence-transformers) (3.6.0)\n",
            "Requirement already satisfied: mpmath<1.4,>=1.1.0 in /usr/local/lib/python3.12/dist-packages (from sympy>=1.13.3->torch>=1.11.0->sentence-transformers) (1.3.0)\n",
            "Requirement already satisfied: MarkupSafe>=2.0 in /usr/local/lib/python3.12/dist-packages (from jinja2->torch>=1.11.0->sentence-transformers) (3.0.2)\n",
            "Downloading sentence_transformers-5.1.0-py3-none-any.whl (483 kB)\n",
            "\u001b[2K   \u001b[90m━━━━━━━━━━━━━━━━━━━━━━━━━━━━━━━━━━━━━━━━\u001b[0m \u001b[32m483.4/483.4 kB\u001b[0m \u001b[31m8.6 MB/s\u001b[0m eta \u001b[36m0:00:00\u001b[0m\n",
            "\u001b[?25hBuilding wheels for collected packages: transformers\n",
            "  Building wheel for transformers (pyproject.toml) ... \u001b[?25l\u001b[?25hdone\n",
            "  Created wheel for transformers: filename=transformers-4.57.0.dev0-py3-none-any.whl size=12604538 sha256=731d98ed9cccc9f2a2850d6e880db8f37062471dc96e254d9c09f9283f7174b8\n",
            "  Stored in directory: /tmp/pip-ephem-wheel-cache-om4h1ms4/wheels/3a/21/76/c31899bac2cf601d3c74091b26a413bc3fb54770d5ccb5c924\n",
            "Successfully built transformers\n",
            "Installing collected packages: transformers, sentence-transformers\n",
            "  Attempting uninstall: transformers\n",
            "    Found existing installation: transformers 4.56.0\n",
            "    Uninstalling transformers-4.56.0:\n",
            "      Successfully uninstalled transformers-4.56.0\n",
            "Successfully installed sentence-transformers-5.1.0 transformers-4.57.0.dev0\n"
          ]
        }
      ],
      "source": [
        "!pip install -U sentence-transformers git+https://github.com/huggingface/transformers@v4.56.0-Embedding-Gemma-preview"
      ]
    },
    {
      "cell_type": "markdown",
      "metadata": {
        "id": "O3ttIyfSA0Lj"
      },
      "source": [
        "After you have accepted the license, you need a valid Hugging Face Token to access the model."
      ]
    },
    {
      "cell_type": "code",
      "execution_count": null,
      "metadata": {
        "id": "WXK1Ev1Sq2iY"
      },
      "outputs": [],
      "source": [
        "# Login into Hugging Face Hub\n",
        "from huggingface_hub import login\n",
        "login()"
      ]
    },
    {
      "cell_type": "markdown",
      "metadata": {
        "id": "NUydcaDBrXDi"
      },
      "source": [
        "### Load Model\n",
        "\n",
        "Use the `sentence-transformers` libraries to create an instance of a model class with EmbeddingGemma."
      ]
    },
    {
      "cell_type": "code",
      "execution_count": null,
      "metadata": {
        "id": "mkpmqlU_rcOd",
        "outputId": "23a48c76-8980-418b-dff8-a8ef491e77fe"
      },
      "outputs": [
        {
          "name": "stdout",
          "output_type": "stream",
          "text": [
            "Device: cuda:0\n",
            "SentenceTransformer(\n",
            "  (0): Transformer({'max_seq_length': 2048, 'do_lower_case': False, 'architecture': 'Gemma3TextModel'})\n",
            "  (1): Pooling({'word_embedding_dimension': 768, 'pooling_mode_cls_token': False, 'pooling_mode_mean_tokens': True, 'pooling_mode_max_tokens': False, 'pooling_mode_mean_sqrt_len_tokens': False, 'pooling_mode_weightedmean_tokens': False, 'pooling_mode_lasttoken': False, 'include_prompt': True})\n",
            "  (2): Dense({'in_features': 768, 'out_features': 3072, 'bias': False, 'activation_function': 'torch.nn.modules.linear.Identity'})\n",
            "  (3): Dense({'in_features': 3072, 'out_features': 768, 'bias': False, 'activation_function': 'torch.nn.modules.linear.Identity'})\n",
            "  (4): Normalize()\n",
            ")\n",
            "Total number of parameters in the model: 307581696\n"
          ]
        }
      ],
      "source": [
        "import torch\n",
        "from sentence_transformers import SentenceTransformer\n",
        "\n",
        "device = \"cuda\" if torch.cuda.is_available() else \"cpu\"\n",
        "\n",
        "model_id = \"google/embeddinggemma-300M\"\n",
        "model = SentenceTransformer(model_id).to(device=device)\n",
        "\n",
        "print(f\"Device: {model.device}\")\n",
        "print(model)\n",
        "print(\"Total number of parameters in the model:\", sum([p.numel() for _, p in model.named_parameters()]))"
      ]
    },
    {
      "cell_type": "markdown",
      "metadata": {
        "id": "JxrZ8na0A7Hv"
      },
      "source": [
        "## Generating Embedding\n",
        "\n",
        "An embedding is a numerical representation of text, like a word or sentence, that captures its semantic meaning. Essentially, it's a list of numbers (a vector) that allows computers to understand the relationships and context of words.\n",
        "\n",
        "Let's see how EmbeddingGemma would process three different words `[\"apple\", \"banana\", \"car\"]`.\n",
        "\n",
        "EmbeddingGemma has been trained on vast amounts of text and has learned the relationships between words and concepts."
      ]
    },
    {
      "cell_type": "code",
      "execution_count": null,
      "metadata": {
        "id": "o0UK8UVAA9b7",
        "outputId": "2200f80f-eb56-468a-aed2-13c3bf56a06c"
      },
      "outputs": [
        {
          "name": "stdout",
          "output_type": "stream",
          "text": [
            "[[-0.18476306  0.00167681  0.03773484 ... -0.07996225 -0.02348064\n",
            "   0.00976741]\n",
            " [-0.21189538 -0.02657359  0.02513712 ... -0.08042689 -0.01999852\n",
            "   0.00512146]\n",
            " [-0.18924113 -0.02551468  0.04486253 ... -0.06377774 -0.03699806\n",
            "   0.03973572]]\n",
            "Embedding 1: (768,)\n",
            "Embedding 2: (768,)\n",
            "Embedding 3: (768,)\n"
          ]
        }
      ],
      "source": [
        "words = [\"apple\", \"banana\", \"car\"]\n",
        "\n",
        "# Calculate embeddings by calling model.encode()\n",
        "embeddings = model.encode(words)\n",
        "\n",
        "print(embeddings)\n",
        "for idx, embedding in enumerate(embeddings):\n",
        "  print(f\"Embedding {idx+1} (shape): {embedding.shape}\")"
      ]
    },
    {
      "cell_type": "markdown",
      "metadata": {
        "id": "inuWOAuMBAR7"
      },
      "source": [
        "The model outpus a numerical vector for each sentence. The actual vectors are very long (768), but for simplicity, those are presented with a few dimensions.\n",
        "\n",
        "The key isn't the individual numbers themselves, but **the distance between the vectors**. If we were to plot these vectors in a multi-dimensional space, The vectors for `apple` and `banana` would be very close to each other. And the vector for `car` would be far away from the other two."
      ]
    },
    {
      "cell_type": "markdown",
      "metadata": {
        "id": "2oCpMMJUr4RT"
      },
      "source": [
        "## Determining Similarity\n",
        "\n",
        "In this section, we use embeddings to determine how sementically similar different sentences are. Here we show examples with high, medieum, and low similarity scores.\n",
        "\n",
        "- High Similarity:\n",
        "  - Sentence A: \"The chef prepared a delicious meal for the guests.\"\n",
        "  - Sentence B: \"A tasty dinner was cooked by the chef for the visitors.\"\n",
        "  - Reasoning: Both sentences describe the same event using different words and grammatical structures (active vs. passive voice). They convey the same core meaning.\n",
        "\n",
        "- Medium Similarity:\n",
        "  - Sentence A: \"She is an expert in machine learning.\"\n",
        "  - Sentence B: \"He has a deep interest in artificial intelligence.\"\n",
        "  - Reasoning: The sentences are related as machine learning is a subfield of artificial intelligence. However, they talk about different people with different levels of engagement (expert vs. interest).\n",
        "\n",
        "- Low Similarity:\n",
        "  - Sentence A: \"The weather in Tokyo is sunny today.\"\n",
        "  - Sentence B: \"I need to buy groceries for the week.\"\n",
        "  - Reasoning: The two sentences are on completely unrelated topics and share no semantic overlap."
      ]
    },
    {
      "cell_type": "code",
      "execution_count": null,
      "metadata": {
        "id": "VeTEvnTyslyq",
        "outputId": "14c0541b-3e91-4d01-985a-ea41c27089f6"
      },
      "outputs": [
        {
          "name": "stdout",
          "output_type": "stream",
          "text": [
            "🙋‍♂️\n",
            "['The chef prepared a delicious meal for the guests.', 'A tasty dinner was cooked by the chef for the visitors.']\n",
            "`-> 🤖 score:  0.8002148\n",
            "🙋‍♂️\n",
            "['She is an expert in machine learning.', 'He has a deep interest in artificial intelligence.']\n",
            "`-> 🤖 score:  0.45417833\n",
            "🙋‍♂️\n",
            "['The weather in Tokyo is sunny today.', 'I need to buy groceries for the week.']\n",
            "`-> 🤖 score:  0.22262995\n"
          ]
        }
      ],
      "source": [
        "# The sentences to encode\n",
        "sentence_high = [\n",
        "    \"The chef prepared a delicious meal for the guests.\",\n",
        "    \"A tasty dinner was cooked by the chef for the visitors.\"\n",
        "]\n",
        "sentence_medium = [\n",
        "    \"She is an expert in machine learning.\",\n",
        "    \"He has a deep interest in artificial intelligence.\"\n",
        "]\n",
        "sentence_low = [\n",
        "    \"The weather in Tokyo is sunny today.\",\n",
        "    \"I need to buy groceries for the week.\"\n",
        "]\n",
        "\n",
        "for sentence in [sentence_high, sentence_medium, sentence_low]:\n",
        "  print(\"🙋‍♂️\")\n",
        "  print(sentence)\n",
        "  embeddings = model.encode(sentence)\n",
        "  similarities = model.similarity(embeddings[0], embeddings[1])\n",
        "  print(\"`-> 🤖 score: \", similarities.numpy()[0][0])"
      ]
    },
    {
      "cell_type": "markdown",
      "metadata": {
        "id": "obfUiizULZE0"
      },
      "source": [
        "### Using Prompts with EmbeddingGemma\n",
        "\n",
        "To generate the best embeddings with EmbeddingGemma, you should add an \"instructional prompt\" or \"task\" to the beginning of your input text. These prompts optimize the embeddings for specific tasks, such as document retrieval or question answering, and help the model distinguish between different input types, like a search query versus a document.\n",
        "\n",
        "#### How to Apply Prompts\n",
        "\n",
        "You can apply a prompt during inference in three ways.\n",
        "\n",
        "1.  **Using the `prompt` argument**<br>\n",
        "    Pass the full prompt string directly to the `encode` method. This gives you precise control.\n",
        "    ```python\n",
        "    embeddings = model.encode(\n",
        "        sentence,\n",
        "        prompt=\"task: sentence similarity | query: \"\n",
        "    )\n",
        "    ```\n",
        "2.  **Using the `prompt_name` argument**<br>\n",
        "    Select a predefined prompt by its name. These prompts are loaded from the model's configuration or during its initialization.\n",
        "    ```python\n",
        "    embeddings = model.encode(sentence, prompt_name=\"STS\")\n",
        "    ```\n",
        "3.  **Using the Default Prompt**<br>\n",
        "    If you don't specify either `prompt` or `prompt_name`, the system will automatically use the prompt set as `default_prompt_name`, if no default is set, then no prompt is applied.\n",
        "    ```python\n",
        "    embeddings = model.encode(sentence)\n",
        "    ```\n"
      ]
    },
    {
      "cell_type": "code",
      "execution_count": null,
      "metadata": {
        "id": "0p3qe3WDJV-I",
        "outputId": "c40682aa-9407-447e-fa3a-f4affb2ab39a"
      },
      "outputs": [
        {
          "name": "stdout",
          "output_type": "stream",
          "text": [
            "Available tasks:\n",
            " query: \"task: search result | query: \"\n",
            " document: \"title: none | text: \"\n",
            " BitextMining: \"task: search result | query: \"\n",
            " Clustering: \"task: clustering | query: \"\n",
            " Classification: \"task: classification | query: \"\n",
            " InstructionRetrieval: \"task: code retrieval | query: \"\n",
            " MultilabelClassification: \"task: classification | query: \"\n",
            " PairClassification: \"task: sentence similarity | query: \"\n",
            " Reranking: \"task: search result | query: \"\n",
            " Retrieval: \"task: search result | query: \"\n",
            " Retrieval-query: \"task: search result | query: \"\n",
            " Retrieval-document: \"title: none | text: \"\n",
            " STS: \"task: sentence similarity | query: \"\n",
            " Summarization: \"task: summarization | query: \"\n",
            "--------------------------------------------------------------------------------\n",
            "🙋‍♂️\n",
            "['The chef prepared a delicious meal for the guests.', 'A tasty dinner was cooked by the chef for the visitors.']\n",
            "`-> 🤖 score:  0.9363755\n",
            "🙋‍♂️\n",
            "['She is an expert in machine learning.', 'He has a deep interest in artificial intelligence.']\n",
            "`-> 🤖 score:  0.6425841\n",
            "🙋‍♂️\n",
            "['The weather in Tokyo is sunny today.', 'I need to buy groceries for the week.']\n",
            "`-> 🤖 score:  0.38587403\n"
          ]
        }
      ],
      "source": [
        "print(\"Available tasks:\")\n",
        "for name, prefix in model.prompts.items():\n",
        "  print(f\" {name}: \\\"{prefix}\\\"\")\n",
        "print(\"-\"*80)\n",
        "\n",
        "for sentence in [sentence_high, sentence_medium, sentence_low]:\n",
        "  print(\"🙋‍♂️\")\n",
        "  print(sentence)\n",
        "  embeddings = model.encode(sentence, prompt_name=\"STS\")\n",
        "  similarities = model.similarity(embeddings[0], embeddings[1])\n",
        "  print(\"`-> 🤖 score: \", similarities.numpy()[0][0])\n"
      ]
    },
    {
      "cell_type": "markdown",
      "metadata": {
        "id": "2YAqPXDctw2w"
      },
      "source": [
        "#### Use Case: Retrieval-Augmented Generation (RAG)\n",
        "\n",
        "For RAG systems, use the following `prompt_name` values to create specialized embeddings for your queries and documents:\n",
        "\n",
        "* **For Queries:** Use `prompt_name=\"Retrieval-query\"`.<br>\n",
        "    ```python\n",
        "    query_embedding = model.encode(\n",
        "        \"How do I use prompts with this model?\",\n",
        "        prompt_name=\"Retrieval-query\"\n",
        "    )\n",
        "    ```\n",
        "\n",
        "* **For Documents:** Use `prompt_name=\"Retrieval-document\"`. To further improve document embeddings, you can also include a title by using the `prompt` argument directly:<br>\n",
        "  * **With a title:**<br>\n",
        "    ```python\n",
        "    doc_embedding = model.encode(\n",
        "        \"The document text...\",\n",
        "        prompt=\"title: Using Prompts in RAG | text: \"\n",
        "    )\n",
        "    ```\n",
        "  * **Without a title:**<br>\n",
        "    ```python\n",
        "    doc_embedding = model.encode(\n",
        "        \"The document text...\",\n",
        "        prompt=\"title: none | text: \"\n",
        "    )\n",
        "    ```\n",
        "\n",
        "#### Further Reading\n",
        "\n",
        "* For details on all available EmbeddingGemma prompts, see the [model card](http://ai.google.dev/gemma/docs/embeddinggemma/model_card#prompt_instructions).\n",
        "* For general information on prompt templates, see the [Sentence Transformer documentation](https://sbert.net/examples/sentence_transformer/applications/computing-embeddings/README.html#prompt-templates).\n",
        "* For a demo of RAG, see the [Simple RAG example](https://github.com/google-gemini/gemma-cookbook/blob/main/Gemma/%5BGemma_3%5DRAG_with_EmbeddingGemma.ipynb) in the Gemma Cookbook.\n"
      ]
    },
    {
      "cell_type": "markdown",
      "metadata": {
        "id": "aQh-QFAPsswb"
      },
      "source": [
        "## Classification\n",
        "\n",
        "Classification is the task of assigning a piece of text to one or more predefined categories or labels. It's one of the most fundamental tasks in Natural Language Processing (NLP).\n",
        "\n",
        "A practical application of text classification is customer support ticket routing. This process automatically directs customer queries to the correct department, saving time and reducing manual work."
      ]
    },
    {
      "cell_type": "code",
      "execution_count": null,
      "metadata": {
        "id": "C2Ufawl-tXvr",
        "outputId": "ebe415c6-3afa-46e3-c240-433682243c8a"
      },
      "outputs": [
        {
          "name": "stdout",
          "output_type": "stream",
          "text": [
            "tensor([[0.4673, 0.5145, 0.3604],\n",
            "        [0.4191, 0.5010, 0.5966]])\n",
            "tensor([1, 2])\n",
            "🙋‍♂️ Excuse me, the app freezes on the login screen. It won't work even when I try to reset my password. -> 🤖 Technical Support\n",
            "🙋‍♂️ I would like to inquire about your enterprise plan pricing and features for a team of 50 people. -> 🤖 Sales Inquiry\n"
          ]
        }
      ],
      "source": [
        "labels = [\"Billing Issue\", \"Technical Support\", \"Sales Inquiry\"]\n",
        "\n",
        "sentence = [\n",
        "  \"Excuse me, the app freezes on the login screen. It won't work even when I try to reset my password.\",\n",
        "  \"I would like to inquire about your enterprise plan pricing and features for a team of 50 people.\",\n",
        "]\n",
        "\n",
        "# Calculate embeddings by calling model.encode()\n",
        "label_embeddings = model.encode(labels, prompt_name=\"Classification\")\n",
        "embeddings = model.encode(sentence, prompt_name=\"Classification\")\n",
        "\n",
        "# Calculate the embedding similarities\n",
        "similarities = model.similarity(embeddings, label_embeddings)\n",
        "print(similarities)\n",
        "\n",
        "idx = similarities.argmax(1)\n",
        "print(idx)\n",
        "\n",
        "for example in sentence:\n",
        "  print(\"🙋‍♂️\", example, \"-> 🤖\", labels[idx[sentence.index(example)]])"
      ]
    },
    {
      "cell_type": "markdown",
      "metadata": {
        "id": "IRUU2EIDPSmW"
      },
      "source": [
        "## Matryoshka Representation Learning (MRL)\n",
        "\n",
        "EmbeddingGemma leverages MRL to provide multiple embedding sizes from one model. It's a clever training method that creates a single, high-quality embedding where the most important information is concentrated at the beginning of the vector.\n",
        "\n",
        "This means you can get a smaller, still very useful embedding by simply taking the first `N` dimensions of the full embedding. Using smaller, truncated embedding is significantly cheaper to store and faster to process, but this efficiency comes at the cost of potential lower quality of embeddings. MRL gives you the power to choose the optimal balance between this speed and accuracy for your application's specific needs.\n",
        "\n",
        "Let's use three words `[\"apple\", \"banana\", \"car\"]` and create simplified embeddings to see how MRL works."
      ]
    },
    {
      "cell_type": "code",
      "execution_count": null,
      "metadata": {
        "id": "B1q1F9I5PYSq",
        "outputId": "d6506152-113e-4c65-a158-c99ef2b459d6"
      },
      "outputs": [
        {
          "name": "stdout",
          "output_type": "stream",
          "text": [
            "similarity function:  cosine\n",
            "tensor([[0.7510, 0.6685]])\n",
            "🙋‍♂️ apple vs. banana -> 🤖 score:  0.75102395\n",
            "🙋‍♂️ apple vs. car -> 🤖 score:  0.6684626\n"
          ]
        }
      ],
      "source": [
        "def check_word_similarities():\n",
        "  # Calculate the embedding similarities\n",
        "  print(\"similarity function: \", model.similarity_fn_name)\n",
        "  similarities = model.similarity(embeddings[0], embeddings[1:])\n",
        "  print(similarities)\n",
        "\n",
        "  for idx, word in enumerate(words[1:]):\n",
        "    print(\"🙋‍♂️ apple vs.\", word, \"-> 🤖 score: \", similarities.numpy()[0][idx])\n",
        "\n",
        "# Calculate embeddings by calling model.encode()\n",
        "embeddings = model.encode(words, prompt_name=\"STS\")\n",
        "\n",
        "check_word_similarities()"
      ]
    },
    {
      "cell_type": "markdown",
      "metadata": {
        "id": "_iv1xG0TPxkm"
      },
      "source": [
        "Now, for a faster application, you don't need a new model. Simply **turncate** the full embeddings to the first **512 dimensions**. For optimal result, it is also recommended to set `normalize_embeddings=True`, which scales the vectors to a unit length of 1."
      ]
    },
    {
      "cell_type": "code",
      "execution_count": null,
      "metadata": {
        "id": "9Ue4aWh8PzdL",
        "outputId": "790873fa-55d0-45c6-fa64-1ed2d783727e"
      },
      "outputs": [
        {
          "name": "stdout",
          "output_type": "stream",
          "text": [
            "Embedding 1: (512,)\n",
            "Embedding 2: (512,)\n",
            "Embedding 3: (512,)\n",
            "--------------------------------------------------------------------------------\n",
            "similarity function:  cosine\n",
            "tensor([[0.7674, 0.7041]])\n",
            "🙋‍♂️ apple vs. banana -> 🤖 score:  0.767427\n",
            "🙋‍♂️ apple vs. car -> 🤖 score:  0.7040509\n"
          ]
        }
      ],
      "source": [
        "embeddings = model.encode(words, truncate_dim=512, normalize_embeddings=True)\n",
        "\n",
        "for idx, embedding in enumerate(embeddings):\n",
        "  print(f\"Embedding {idx+1}: {embedding.shape}\")\n",
        "\n",
        "print(\"-\"*80)\n",
        "check_word_similarities()"
      ]
    },
    {
      "cell_type": "markdown",
      "metadata": {
        "id": "lgkmgzfVP24M"
      },
      "source": [
        "In extreamly constrained environments, you can further shorten the embeddings to just **256 dimensions**. You can also use the more efficient **dot-product** for similarity calculations instead of the standard **cosine** similarity."
      ]
    },
    {
      "cell_type": "code",
      "execution_count": null,
      "metadata": {
        "id": "Gi4NlPv-P4RS",
        "outputId": "efea06d1-3dff-45ab-813e-6ceeee55dc36"
      },
      "outputs": [
        {
          "name": "stdout",
          "output_type": "stream",
          "text": [
            "Embedding 1: (256,)\n",
            "Embedding 2: (256,)\n",
            "Embedding 3: (256,)\n",
            "--------------------------------------------------------------------------------\n",
            "similarity function:  dot\n",
            "tensor([[0.7855, 0.7382]])\n",
            "🙋‍♂️ apple vs. banana -> 🤖 score:  0.7854644\n",
            "🙋‍♂️ apple vs. car -> 🤖 score:  0.7382126\n"
          ]
        }
      ],
      "source": [
        "model = SentenceTransformer(model_id, truncate_dim=256, similarity_fn_name=\"dot\").to(device=device)\n",
        "embeddings = model.encode(words, prompt_name=\"STS\", normalize_embeddings=True)\n",
        "\n",
        "for idx, embedding in enumerate(embeddings):\n",
        "  print(f\"Embedding {idx+1}: {embedding.shape}\")\n",
        "\n",
        "print(\"-\"*80)\n",
        "check_word_similarities()"
      ]
    },
    {
      "cell_type": "markdown",
      "metadata": {
        "id": "RYr9uSI_t3fm"
      },
      "source": [
        "## Summary and next steps\n",
        "\n",
        "You are now equipped to generate high-quality text embeddings using EmbeddingGemma and the Sentence Transformers library. Apply these skills to build powerful features like semantic similarity, text classification, and Retrieval-Augmented Generation (RAG) systems, and continue exploring what's possible with Gemma models.\n",
        "\n",
        "Check out the following docs next:\n",
        "\n",
        "* [Fine-tune EmbeddingGemma](https://ai.google.dev/gemma/docs/embeddinggemma/fine-tuning-embeddinggemma-with-sentence-transformers)\n",
        "* [Simple RAG example](https://github.com/google-gemini/gemma-cookbook/blob/main/Gemma/%5BGemma_3%5DRAG_with_EmbeddingGemma.ipynb) in the Gemma Cookbook\n"
      ]
    }
  ],
  "metadata": {
    "colab": {
      "name": "inference-embeddinggemma-with-sentence-transformers.ipynb",
      "provenance": [],
      "gpuType": "V28",
      "include_colab_link": true
    },
    "kernelspec": {
      "display_name": "Python 3",
      "name": "python3"
    },
    "accelerator": "TPU"
  },
  "nbformat": 4,
  "nbformat_minor": 0
}